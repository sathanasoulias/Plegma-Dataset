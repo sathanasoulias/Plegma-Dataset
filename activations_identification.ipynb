{
 "cells": [
  {
   "cell_type": "markdown",
   "metadata": {},
   "source": [
    "<br>\n",
    "<br>\n",
    " <center> <font size = \"5\"> Plegma Dataset </font></center>\n",
    " <br>\n",
    " <center> <font size = \"4\"> Activations identification </font></center>\n",
    " <br>\n",
    " <center> <font size = \"3\"> </font></center>\n",
    "<br>\n",
    "<br>\n",
    "\n",
    "---"
   ]
  },
  {
   "cell_type": "markdown",
   "metadata": {},
   "source": [
    "### Imports"
   ]
  },
  {
   "cell_type": "code",
   "execution_count": null,
   "metadata": {},
   "outputs": [],
   "source": [
    "import pandas as pd\n",
    "from datetime import datetime, date, timedelta\n",
    "import pandas as pd\n",
    "import os\n",
    "import matplotlib.pyplot as plt\n",
    "import numpy as np\n",
    "import plotly\n",
    "from   plotly import __version__\n",
    "from   plotly.offline import download_plotlyjs, init_notebook_mode, plot, iplot\n",
    "import pandas as pd\n",
    "import plotly.graph_objects as go\n",
    "import plotly.graph_objs as go"
   ]
  },
  {
   "cell_type": "markdown",
   "metadata": {},
   "source": [
    "### Specify Data "
   ]
  },
  {
   "cell_type": "code",
   "execution_count": null,
   "metadata": {},
   "outputs": [],
   "source": [
    "house      = 'House_01'\n",
    "appliance  = 'washing_machine'\n",
    "year_month = '2022-07'"
   ]
  },
  {
   "cell_type": "markdown",
   "metadata": {},
   "source": [
    "### Read data"
   ]
  },
  {
   "cell_type": "code",
   "execution_count": null,
   "metadata": {},
   "outputs": [],
   "source": [
    "# Parse data\n",
    "# ----------\n",
    "\n",
    "electric_data = pd.read_csv('clean_dataset/'+house+'/Electric_data/'+year_month+'.csv',header=0)\n",
    "electric_data['timestamp'] = pd.to_datetime(electric_data['timestamp'])\n",
    "electric_data.set_index('timestamp', inplace=True)\n",
    "\n",
    "appliances_metadata = pd.read_csv('clean_dataset/'+house+'/Electric_data/'+'appliances_metadata'+'.csv',header=0)"
   ]
  },
  {
   "cell_type": "markdown",
   "metadata": {},
   "source": [
    "### Plot Data and check appliance metadata"
   ]
  },
  {
   "cell_type": "code",
   "execution_count": null,
   "metadata": {},
   "outputs": [],
   "source": [
    "def make_plot(df,title): \n",
    "    \n",
    "    \"\"\"\n",
    "    Creates a line plot for multiple time series using Plotly.\n",
    "\n",
    "    This function takes a DataFrame and a title as inputs. It iterates through\n",
    "    each column of the DataFrame, adding a line to the plot for each one. A special\n",
    "    consideration is given to 'status', which is plotted with a different\n",
    "    line width to showcase the appliance's activations. The function generates an interactive Plotly line plot.\n",
    "\n",
    "    Parameters:\n",
    "    df (pd.DataFrame): A pandas DataFrame containing the time series data. The DataFrame\n",
    "                       index should represent the timestamp for each data point.\n",
    "    title (str): The title of the plot.\n",
    "\n",
    "    Returns:\n",
    "    None: The function directly displays the plot using fig.show() and does not return\n",
    "          any value.\n",
    "    \"\"\"\n",
    "    \n",
    "    # Use plotly to create a line plot for multiple time series\n",
    "    fig = go.Figure()\n",
    "    for col in df.columns:\n",
    "        if col != 'status':\n",
    "            fig.add_trace(go.Scatter(x=df.index, y=df[col], mode='lines', name=col,line=dict(width=4)))\n",
    "        else: \n",
    "            fig.add_trace(go.Scatter(x=df.index, y=df[col], mode='lines', name=col,line=dict(width=2)))\n",
    "    # Add title and axis labels\n",
    "    fig.update_layout(title=title,\n",
    "                  xaxis_title='Timestamp',\n",
    "                  yaxis_title='Power (W)')\n",
    "    # Show the plot\n",
    "    fig.show()"
   ]
  },
  {
   "cell_type": "markdown",
   "metadata": {},
   "source": [
    "### Compute status and activations"
   ]
  },
  {
   "cell_type": "code",
   "execution_count": null,
   "metadata": {},
   "outputs": [],
   "source": [
    "def compute_status(y,appliance):\n",
    "    \n",
    "    \"\"\"\n",
    "    Analyzes power consumption data to determine the operational status of a specific appliance over time.\n",
    "\n",
    "    The function computes the operational status (on or off) of an appliance based on power consumption readings.\n",
    "    It uses metadata about the appliance such as wattage, threshold, and minimum on/off durations to identify periods\n",
    "    when the appliance is active. The function returns an array indicating the appliance's status over time and the\n",
    "    count of distinct on-events detected.\n",
    "\n",
    "    Parameters:\n",
    "    y (numpy.ndarray): An array of power consumption readings (in Watts) over time. Each element in the array represents\n",
    "                       a power reading at a given time.\n",
    "    appliance (str): A string representing the name of the appliance, used to look up its specific metadata.\n",
    "\n",
    "    Returns:\n",
    "    Tuple (numpy.ndarray, int): \n",
    "        - The first element of the tuple is an array where each element is either the wattage of the appliance (when on) or zero (when off).\n",
    "        - The second element is an integer representing the number of distinct on-events detected for the appliance.\n",
    "    \"\"\"\n",
    "\n",
    "    wattage   = appliances_metadata.loc[appliances_metadata['appliance'] == appliance, 'wattage [W]'].iloc[0]\n",
    "    threshold = appliances_metadata.loc[appliances_metadata['appliance'] == appliance, 'threshold [W]'].iloc[0]\n",
    "    min_on    = appliances_metadata.loc[appliances_metadata['appliance'] == appliance, 'min_on (sec)'].iloc[0] / 10\n",
    "    min_off   = appliances_metadata.loc[appliances_metadata['appliance'] == appliance, 'min_off (sec)'].iloc[0] / 10\n",
    "   \n",
    " \n",
    "    initial_status = y>= threshold\n",
    "    \n",
    "    \n",
    "    status_diff    = np.diff(initial_status)\n",
    "    events_idx     = status_diff.nonzero()[0].squeeze() + 1\n",
    "    \n",
    "    if initial_status[0]:  \n",
    "        events_idx = np.insert(events_idx, 0, 0)\n",
    "    if initial_status[-1]: \n",
    "        events_idx = np.insert(events_idx, events_idx.size, initial_status.size)\n",
    "\n",
    "    events_idx = events_idx.reshape(-1,2)\n",
    "    on_events  = events_idx[:,0].copy()\n",
    "    off_events = events_idx[:,1].copy()\n",
    "    assert len(on_events) == len(off_events), 'Length of on and off-events does not match!'\n",
    "\n",
    "    if len(on_events):\n",
    "        off_duration = on_events[1:]-off_events[:-1]\n",
    "        off_duration = np.insert(off_duration,0, 1e6)\n",
    "        on_events    = on_events[off_duration > min_off]\n",
    "        off_events   = off_events[np.roll(off_duration, -1) > min_off]\n",
    "\n",
    "        on_duration  = off_events - on_events\n",
    "        on_events    = on_events[on_duration  >= min_on]\n",
    "        off_events   = off_events[on_duration >= min_on]\n",
    "    assert len(on_events) == len(off_events)\n",
    "\n",
    "    temp_status = np.zeros(y.shape)\n",
    "\n",
    "    for on, off in zip(on_events, off_events):\n",
    "        temp_status[on: off] = wattage\n",
    "\n",
    "    return temp_status,len(on_events)"
   ]
  },
  {
   "cell_type": "code",
   "execution_count": null,
   "metadata": {},
   "outputs": [],
   "source": [
    "status, activations = compute_status(electric_data[[appliance]].values.reshape(1,-1)[0],appliance)\n",
    "print('The number of activations are: '+str(activations))\n",
    "\n",
    "df = electric_data.loc[:, [appliance]]\n",
    "df['status'] = status\n",
    "make_plot(df,appliance)"
   ]
  },
  {
   "cell_type": "markdown",
   "metadata": {},
   "source": [
    "### Check number of activations per device in all dataset"
   ]
  },
  {
   "cell_type": "code",
   "execution_count": null,
   "metadata": {},
   "outputs": [],
   "source": [
    "# Create a nested dictionary with all the activations per house\n",
    "# and per appliance\n",
    "\n",
    "houses = {}\n",
    "for house in os.listdir('clean_dataset'):\n",
    "    months = {}\n",
    "    for month in os.listdir('clean_dataset/'+house+'/Electric_data'):\n",
    "        if month == 'appliances_metadata.csv':\n",
    "            continue\n",
    "        # read data\n",
    "        electric_data = pd.read_csv('clean_dataset/'+house+'/Electric_data/'+month,header=0)\n",
    "        electric_data['timestamp'] = pd.to_datetime(electric_data['timestamp'])\n",
    "        electric_data.set_index('timestamp', inplace=True)\n",
    "        appliances_metadata = pd.read_csv('clean_dataset/'+house+'/Electric_data/'+'appliances_metadata'+'.csv',header=0)\n",
    "        # Values to be excluded\n",
    "        values_to_exclude = ['V','A','P_agg', 'issues']\n",
    "        mask = ~np.isin(electric_data.columns.values, values_to_exclude)\n",
    "        appliances = electric_data.columns.values[mask]\n",
    "        devices = {}\n",
    "        for appliance in appliances:\n",
    "            status, activations = compute_status(electric_data[[appliance]].values.reshape(1,-1)[0],appliance)\n",
    "            devices[appliance] = activations\n",
    "            \n",
    "        months[month] = devices\n",
    "    houses[house] = months"
   ]
  },
  {
   "cell_type": "code",
   "execution_count": null,
   "metadata": {},
   "outputs": [],
   "source": [
    "def total_ac_activations(houses_data,appliance_name):\n",
    "    \n",
    "    \"\"\"\n",
    "    Calculates the total number of activations for a specific appliance across multiple houses and months.\n",
    "    This function iterates through a nested dictionary structure containing data for multiple houses. \n",
    "    Each house's data includes monthly records of appliance activations. The function sums up the number of \n",
    "    activations for an appliance specified by 'appliance_name'.\n",
    "\n",
    "    Parameters:\n",
    "    houses_data (dict): A nested dictionary with the following structure:\n",
    "                        {\n",
    "                          'house1': {\n",
    "                            'January': {'appliance1': activations, ...},\n",
    "                            ...\n",
    "                          },\n",
    "                          ...\n",
    "                        }\n",
    "                        It represents data for multiple houses, each containing monthly records of appliance activations.\n",
    "    appliance_name (str): The name or partial name of the appliance to count activations for. The function looks for appliances that start with this name.\n",
    "\n",
    "    Returns:\n",
    "    int: The total number of activations for the specified appliance across all houses and months.\n",
    "    \"\"\"\n",
    "    total_activations = 0\n",
    "    for house in houses_data:\n",
    "        for month in houses_data[house]:\n",
    "            for appliance, activations in houses_data[house][month].items():\n",
    "                if appliance.startswith(appliance_name):\n",
    "                    total_activations += activations\n",
    "    return total_activations"
   ]
  },
  {
   "cell_type": "code",
   "execution_count": null,
   "metadata": {},
   "outputs": [],
   "source": [
    "total_ac_activations(houses,'washing_machine')"
   ]
  }
 ],
 "metadata": {
  "kernelspec": {
   "display_name": "Python 3",
   "language": "python",
   "name": "python3"
  },
  "language_info": {
   "codemirror_mode": {
    "name": "ipython",
    "version": 3
   },
   "file_extension": ".py",
   "mimetype": "text/x-python",
   "name": "python",
   "nbconvert_exporter": "python",
   "pygments_lexer": "ipython3",
   "version": "3.7.6"
  }
 },
 "nbformat": 4,
 "nbformat_minor": 4
}
